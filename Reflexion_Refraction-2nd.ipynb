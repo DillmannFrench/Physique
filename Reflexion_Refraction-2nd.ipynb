{
 "cells": [
  {
   "cell_type": "markdown",
   "metadata": {
    "collapsed": false
   },
   "source": [
    "# Énoncer et exploiter les lois de Snell-Descartes pour la réfraction"
   ]
  },
  {
   "cell_type": "markdown",
   "metadata": {
    "collapsed": false
   },
   "source": [
    "## Changement de milieu de propagation : réfraction et réflexion\n",
    "\n",
    "### Traversée d'un dioptre séparant deux milieux d'indice optique différents (activité numérique).\n",
    "\n",
    "Comment décrire mathématiquement le phénomène de réfraction ?\n",
    "\n",
    "\n",
    "\\begin{eqnarray}\n",
    "n_1.\\sin(i_1) & = & n_2.\\sin(i_2) \\\\\n",
    "i_2 & = & \\sin^{\\text{-}1}\\Big(\\frac{n_1}{n_2}.\\sin(i_1)\\Big) \\\\\n",
    "\\end{eqnarray}\n",
    "On prend pour expression de l'angle $i_2$ la valeur \n",
    "\n",
    "`i2 = degrees (asin(n1*(sin(radians(i1))/n2)))`\n",
    "\n",
    " tant que l'angle $i_1$ est en dessous de l'angle critique de réflexion totale\n",
    ">- Dioptre et axe\n",
    ">- Rayon incident\n",
    ">- Rayon refracté \n",
    ">- Rayon réfléchi\n",
    ">- Affichage du graphe"
   ]
  },
  {
   "cell_type": "markdown",
   "metadata": {
    "collapsed": false
   },
   "source": [
    "### Utiliser un langage de programmation\n",
    "\n",
    "\n",
    "Nous allons nous servir de python pour simuler la déviation d'un rayon incident à la surface d'un dioptre.\n",
    "\n",
    "Les cellules contennant du code sont à exeuter l'une après l'autre. Comme nous l'avons vu en classe vous ne pouvez pas appeler une fonction avant de l'avoir définie. \n",
    "\n",
    "Le code suivant été développé à l'aide de Python 3.6 et il doit être mis à jour en fonction des librairies qui sont importées dans la cellule suivante.\n",
    "\n",
    "#### Librairies et mode de visualisation\n",
    "\n",
    "La première cellule sert a visualiser les graphes obtennus dans cet  activité.\n",
    "\n",
    "La cellule suivante est une liste de **bibliothèques** (ou *libraries* en anglais) qui contiennent des fonctions indispensables au bon fonctionnement du projet. \n",
    "Si vous remarquer un message d'erreur, c'est certainement qu'il faut penser à actualiser les librairies qui sont importées par les commandes `import` et `from`. En effet les développeurs du langage python peuvent changer une fonction de bibliothèque, c'est leur droit, c'est à vous de chercher la bonne librairie."
   ]
  },
  {
   "cell_type": "code",
   "execution_count": 1,
   "metadata": {
    "collapsed": false
   },
   "outputs": [
   ],
   "source": [
    " %matplotlib inline"
   ]
  },
  {
   "cell_type": "code",
   "execution_count": 2,
   "metadata": {
    "collapsed": false
   },
   "outputs": [
   ],
   "source": [
    "from __future__ import print_function\n",
    "from ipywidgets import interact, interactive, fixed, interact_manual\n",
    "import ipywidgets as widgets\n",
    "from pylab import *\n",
    "from math import *\n",
    "import matplotlib.pyplot as plt\n",
    "import numpy as py"
   ]
  },
  {
   "cell_type": "markdown",
   "metadata": {
    "collapsed": false
   },
   "source": [
    "#### Initialisation des variables\n",
    "Dans la cellule suivante on doit initialiser comme des nombre rééls toutes les variables qui vont être utilisées.\n",
    "\n",
    "**Q.1) Est ce que vous pouvez réecrire cette cellule en définie non plus comme un entier naturel mais bien comme un nombre réel à virgule ? (3 points)**\n",
    "\n",
    "**Q.2) Comment s'y prendre pour ajouter sur la même ligne un commentaire qui permette à l'utilisateur de retrouver la définition de chaque variable ? (2 points)**"
   ]
  },
  {
   "cell_type": "code",
   "execution_count": 3,
   "metadata": {
    "collapsed": false
   },
   "outputs": [
   ],
   "source": [
    "n1=0\n",
    "n2=0\n",
    "x=0\n",
    "y=0\n",
    "x1=0\n",
    "y1=0\n",
    "x2=0\n",
    "y2=0"
   ]
  },
  {
   "cell_type": "code",
   "execution_count": 0,
   "metadata": {
    "collapsed": false
   },
   "outputs": [
   ],
   "source": [
    "# Définition des variables"
   ]
  },
  {
   "cell_type": "markdown",
   "metadata": {
    "collapsed": false
   },
   "source": [
    "#### Déclaration de la fonction\n",
    "\n",
    "Dans la cellule suivante on propose une première fonction permettant de renvoyer un  schéma très simplifié, illustrant le changement d'angle du rayon réfracté (orange en pointillés) par rapport au rayon incident (rouge) vennant de la droite. \n",
    "\n",
    "**Q.3) Cette fonction prend trois arguments en entrée, quel est le schéma complet incluant la normale et l'angle par rapport à la normale ? Vous indiquerez le repère cartésien sur votre schéma et vous le rendrez disponnible à travers un lien comme vu en classe. (5 points)**"
   ]
  },
  {
   "cell_type": "markdown",
   "metadata": {
    "collapsed": false
   },
   "source": [
    "L'adresse de mon schéma est : (à compléter)\n",
    "http://....."
   ]
  },
  {
   "cell_type": "code",
   "execution_count": 4,
   "metadata": {
    "collapsed": false
   },
   "outputs": [
   ],
   "source": [
    "def Snell_Descartes(n1,n2,i1):\n",
    "    \"\"\"\n",
    "    La réfraction est modélisée par les lois de Snell-Descartes\n",
    "    \n",
    "    Le rayon réfracté appartient au plan défini par \n",
    "    le rayon incident et la normale à la surface de\n",
    "    séparation\n",
    "    \n",
    "    n1 indice milieu incident (sans unité)\n",
    "    n2 indice milieu refracté (sans unité)\n",
    "    i1 angle du rayon incident (radians ou degrés)\n",
    "    \n",
    "    \n",
    "    utiliser les fonction degrees/radiants pour \n",
    "    verifier que l'on travaille avec le bon type\n",
    "    d'unités\n",
    "    \"\"\"\n",
    "   \n",
    "    axis([-10,10,-10,10])\n",
    "    grid()\n",
    "    axhline(color='c',linewidth=3)\n",
    "    t=np.arange(0,10,0.1)\n",
    "\n",
    "    if n1*(sin(radians(i1))/n2) <= 1:\n",
    "        #BD condition de reflexion partielle\n",
    "        \n",
    "        #coordonées rayon incident\n",
    "        x1=sin(i1/180*pi)*t\n",
    "        y1=cos(i1/180*pi)*t\n",
    "    \n",
    "        #coordonées rayon réfracté\n",
    "        i2 = degrees (asin(n1*(sin(radians(i1))/n2)))\n",
    "        x2=sin(abs(i2)/180*pi)*-t\n",
    "        y2=cos(abs(i2)/180*pi)*-t\n",
    "    \n",
    "        #coordonées rayon réfléchi\n",
    "        x3=sin(abs(i1)/180*pi)*-t\n",
    "        y3=cos(abs(i1)/180*pi)*t\n",
    "        plt.plot(x1,y1,'r-',label=\"rayon incident\")\n",
    "        plt.plot(x3,y3,'--',label=\"rayon reflechi\")\n",
    "        plt.plot(x2,y2,'-.',label=\"rayon refracté\")\n",
    "        \n",
    "\n",
    "        \n",
    "    else:\n",
    "        #il n'y a pas de refraction quand la reflexion est totale \n",
    "        x1=sin(i1/180*pi)*t\n",
    "        y1=cos(i1/180*pi)*t\n",
    "        #coordonées rayon réfléchi en relexion totale\n",
    "        x3=sin(abs(i1)/180*pi)*-t\n",
    "        y3=cos(abs(i1)/180*pi)*t\n",
    "        plt.plot(x1,y1,'-',label=\"rayon incident\")\n",
    "        plt.plot(x3,y3,'-.',label=\"rayon reflechi\")\n",
    "\n",
    "    \n",
    "    #BD you need a plt.legend() \n",
    "    plt.legend(loc='lower right', shadow=True, fontsize='x-large')\n",
    "    plt.title(\"Animation Snell_Descartes\")\n",
    "    plt.show()    "
   ]
  },
  {
   "cell_type": "code",
   "execution_count": 5,
   "metadata": {
    "collapsed": false
   },
   "outputs": [
    {
     "data": {
      "application/vnd.jupyter.widget-view+json": {
       "model_id": "904c1eda301b4185ba7f95a1a01b0dcd",
       "version_major": 2,
       "version_minor": 0
      },
      "text/plain": [
       "interactive(children=(FloatSlider(value=2.0, description='n1', max=3.0, min=1.0), FloatSlider(value=2.0, descr…"
      ]
     },
     "execution_count": 5,
     "metadata": {
     },
     "output_type": "execute_result"
    },
    {
     "data": {
      "text/plain": [
       "<function __main__.Snell_Descartes(n1, n2, i1)>"
      ]
     },
     "execution_count": 5,
     "metadata": {
     },
     "output_type": "execute_result"
    }
   ],
   "source": [
    "\n",
    "interact_manual(Snell_Descartes, i1=(0,90,1), n1=(1,3,0.1), n2=(1,3,0.1))\n"
   ]
  },
  {
   "cell_type": "markdown",
   "metadata": {
    "collapsed": false
   },
   "source": [
    "### Raisonner face à une simulation\n",
    "\n",
    "Cette simulation est juste d'un point de vue mathématique, mais le modèle physique peut être incomplet, voire même faux. Il ne faut donc jamais se laisser impressionner, et surtout se poser les bonnes questions.\n",
    "\n",
    "**Q.4) Dans la simulation précédent pour un certain angle du rayon incident ou l'indice des milieux, le rayon réfracté disparait. Est ce que cela vous semble juste d'un point de vue physique ? Argumentez (2 points)**\n",
    "\n",
    "**Q.5) Dans la simulation précédent quelque soit l'angle rayon incident  ou l'indice des milieux, le rayon réflechi est toujours présent. Est ce que cela vous semble juste d'un point de vue physique ? Argumentez (2 points)**\n"
   ]
  },
  {
   "cell_type": "markdown",
   "metadata": {
    "collapsed": false
   },
   "source": [
    "Réponse à Q.4)"
   ]
  },
  {
   "cell_type": "markdown",
   "metadata": {
    "collapsed": false
   },
   "source": [
    "Réponse à Q.5)"
   ]
  },
  {
   "cell_type": "markdown",
   "metadata": {
    "collapsed": false
   },
   "source": [
    "### Ammeillorer une simulation en se servant d'un modèle conventionnel pour la représentation d'un rayon.\n",
    "\n",
    "Au début du cycle 4 les rayons lumineux ont été introduit à la fin de l'année. La simulation ne propose pas de représentation fidèle de ces modèles. À l'aide de l'outil graphique de la librairie Matplotlib appellé [arrow](https://matplotlib.org/3.1.1/gallery/text_labels_and_annotations/arrow_simple_demo.html#sphx-glr-gallery-text-labels-and-annotations-arrow-simple-demo-py) proposez votre modification de la fonction `Snell_Descartes` affin de visualiser les rayons.  \n",
    "\n",
    "**Q.6) Proposez une nouvelle fonction Snell_Descartes dans la cellule suivante et appelez cette fonction à nouveau pour vérifier votre résultat. L'application se fera en considérant un rayon arrivant à $45^°$ dans de l'eau après avoir parcouru de l'air (6 points)**"
   ]
  },
  {
   "cell_type": "code",
   "execution_count": 0,
   "metadata": {
    "collapsed": false
   },
   "outputs": [
   ],
   "source": [
    "# Entrez votre fonction en respectant la syntaxe python\n",
    "# attention seulle la dernière version de la fonction \n",
    "# Snell-Descartes sera prise en compte"
   ]
  }
 ],
 "metadata": {
  "anaconda-cloud": {
  },
  "kernelspec": {
   "display_name": "Python 3 (system-wide)",
   "language": "python",
   "metadata": {
    "cocalc": {
     "description": "Python 3 programming language",
     "priority": 100,
     "url": "https://www.python.org/"
    }
   },
   "name": "python3"
  },
  "language_info": {
   "codemirror_mode": {
    "name": "ipython",
    "version": 3
   },
   "file_extension": ".py",
   "mimetype": "text/x-python",
   "name": "python",
   "nbconvert_exporter": "python",
   "pygments_lexer": "ipython3",
   "version": "3.8.5"
  },
  "widgets": {
   "state": {
    "ad9a2276be08485195b43a8031edb05d": {
     "views": [
      {
       "cell_index": 3
      }
     ]
    }
   },
   "version": "1.2.0"
  }
 },
 "nbformat": 4,
 "nbformat_minor": 4
}